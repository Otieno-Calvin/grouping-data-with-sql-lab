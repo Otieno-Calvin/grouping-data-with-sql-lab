




















import sqlite3
import pandas as pd

db= sqlite3.connect('babe_ruth.db')








df = pd.read_sql("SELECT COUNT(year) AS YEARS FROM babe_ruth_stats ", db)
df





df = pd.read_sql("SELECT COUNT(year) AS YEARS FROM babe_ruth_stats WHERE team = 'NY' ", db)
df





df = pd.read_sql("SELECT * FROM babe_ruth_stats WHERE HR = (SELECT MAX(HR) FROM babe_ruth_stats) ", db)
df





df = pd.read_sql("SELECT * FROM babe_ruth_stats WHERE HR = (SELECT MIN(HR) FROM babe_ruth_stats) ", db)
df





df = pd.read_sql("SELECT SUM(HR) AS SUM_HR FROM babe_ruth_stats", db)
df





df = pd.read_sql("SELECT * FROM babe_ruth_stats WHERE games >= 100 ORDER BY HR ASC LIMIT 5 ", db)
df





df = pd.read_sql('SELECT AVG(AVG) AS career_average FROM babe_ruth_stats ', db)
df





df = pd.read_sql('SELECT year,( hits + BB ) AS on_base FROM babe_ruth_stats WHERE (hits + BB) > 300  ', db)
df





df = pd.read_sql('SELECT COUNT(year) AS num_season, SUM(hits)  AS total_hits FROM babe_ruth_stats GROUP BY team ', db)
df





df = pd.read_sql('SELECT COUNT(year) AS num_season, SUM(hits)  AS total_hits FROM babe_ruth_stats GROUP BY team HAVING COUNT(year) > 10 ', db)
df





df = pd.read_sql("""
WITH team_average AS (
    SELECT team, AVG(at_bats) AS average_at_bats
    FROM babe_ruth_stats
    GROUP BY team
)
SELECT team, average_at_bats
FROM team_average
WHERE average_at_bats = (SELECT MAX(average_at_bats) FROM team_average)
""", db)
df





df = pd.read_sql("""
WITH team_average AS (
    SELECT team, AVG(at_bats) AS average_at_bats
    FROM babe_ruth_stats
    GROUP BY team
)
SELECT team, average_at_bats
FROM team_average
WHERE average_at_bats > 100
""", db)
df






